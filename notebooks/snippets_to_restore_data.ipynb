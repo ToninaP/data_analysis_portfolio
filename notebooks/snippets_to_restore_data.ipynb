{
 "cells": [
  {
   "cell_type": "code",
   "execution_count": null,
   "metadata": {},
   "outputs": [],
   "source": [
    "import pandas as pd\n",
    "\n",
    "# Reading the CSV files\n",
    "whitney_artworks = pd.read_csv('/Users/antoninalightfoot/Documents/GitHub/museum_personal/data/Whitneymuseum/artworks.csv')\n",
    "whitney_artists = pd.read_csv('/Users/antoninalightfoot/Documents/GitHub/museum_personal/data/Whitneymuseum/artists.csv')\n",
    "\n",
    "# Convert 'id' column to 'artist_ids' as strings without .0 for integer values\n",
    "whitney_artists['artist_ids'] = whitney_artists['id'].apply(lambda x: str(int(x)) if x.is_integer() else str(x))\n",
    "\n",
    "# Ensure that 'artist_ids' column in whitney_artworks is of string type\n",
    "whitney_artworks['artist_ids'] = whitney_artworks['artist_ids'].astype(str)\n",
    "\n",
    "# Merging the two dataframes on 'artist_ids'\n",
    "whitney = whitney_artworks.merge(whitney_artists, on=\"artist_ids\", how='left')\n",
    "\n",
    "# Displaying the result\n",
    "whitney.head()\n",
    "whitney_artists.to_csv"
   ]
  },
  {
   "cell_type": "code",
   "execution_count": 5,
   "metadata": {},
   "outputs": [
    {
     "name": "stderr",
     "output_type": "stream",
     "text": [
      "/var/folders/6z/t3bsy_jn1vn4pg350q90n6w00000gp/T/ipykernel_98030/1729527721.py:3: DtypeWarning: Columns (9,13) have mixed types. Specify dtype option on import or set low_memory=False.\n",
      "  tate_artworks = pd.read_csv('/Users/antoninalightfoot/Documents/GitHub/museum_personal/data/Tate/artwork_data.csv')\n"
     ]
    }
   ],
   "source": [
    "# tate dataset\n",
    "import pandas as pd\n",
    "tate_artworks = pd.read_csv('/Users/antoninalightfoot/Documents/GitHub/museum_personal/data/Tate/artwork_data.csv')\n",
    "tate_artists = pd.read_csv('/Users/antoninalightfoot/Documents/GitHub/museum_personal/data/Tate/artist_data.csv')\n",
    "\n",
    "# Convert 'id' column to 'artist_ids' as strings without .0 for integer values\n",
    "tate_artists['ID'] = tate_artists['id']\n",
    "\n",
    "# Ensure that 'artist_ids' column in tate_artworks is of string type\n",
    "tate_artworks['ID'] = tate_artworks['artistId']\n",
    "\n",
    "# Merging the two dataframes on 'artist_ids'\n",
    "tate = tate_artworks.merge(tate_artists, on=\"ID\", how='left')\n",
    "tate.head()\n",
    "tate.to_csv('tate_raw.csv')\n"
   ]
  },
  {
   "cell_type": "code",
   "execution_count": null,
   "metadata": {},
   "outputs": [
    {
     "name": "stderr",
     "output_type": "stream",
     "text": [
      "/var/folders/6z/t3bsy_jn1vn4pg350q90n6w00000gp/T/ipykernel_98030/3488773735.py:3: DtypeWarning: Columns (29) have mixed types. Specify dtype option on import or set low_memory=False.\n",
      "  nga_artworks = pd.read_csv('/Users/antoninalightfoot/Documents/GitHub/museum_personal/data/National Gallery (DC)/objects.csv')\n"
     ]
    }
   ],
   "source": [
    "#national gallery dataset\n",
    "\n",
    "nga_artworks = pd.read_csv('/Users/antoninalightfoot/Documents/GitHub/museum_personal/data/National Gallery (DC)/objects.csv')\n",
    "nga_obj_const = pd.read_csv('/Users/antoninalightfoot/Documents/GitHub/museum_personal/data/National Gallery (DC)/objects_constituents.csv')\n",
    "nga_artists = pd.read_csv('/Users/antoninalightfoot/Documents/GitHub/museum_personal/data/National Gallery (DC)/constituents.csv')\n",
    "\n",
    "nga1 = nga_artworks.merge(nga_obj_const, on=\"objectid\", how='left')\n",
    "\n",
    "nga2 = nga1.merge(nga_artists, on=\"constituentid\", how='left')\n",
    "nga3 = nga2[nga2['roletype'] == 'artist']\n",
    "nga_final = nga3.drop_duplicates(subset='objectid', keep='first')\n",
    "nga_final.to_csv('national_gallery_raw.csv')"
   ]
  },
  {
   "cell_type": "code",
   "execution_count": null,
   "metadata": {},
   "outputs": [],
   "source": []
  },
  {
   "cell_type": "code",
   "execution_count": null,
   "metadata": {},
   "outputs": [],
   "source": []
  },
  {
   "cell_type": "code",
   "execution_count": null,
   "metadata": {},
   "outputs": [],
   "source": []
  }
 ],
 "metadata": {
  "kernelspec": {
   "display_name": "Python 3",
   "language": "python",
   "name": "python3"
  },
  "language_info": {
   "codemirror_mode": {
    "name": "ipython",
    "version": 3
   },
   "file_extension": ".py",
   "mimetype": "text/x-python",
   "name": "python",
   "nbconvert_exporter": "python",
   "pygments_lexer": "ipython3",
   "version": "3.13.0"
  }
 },
 "nbformat": 4,
 "nbformat_minor": 2
}
