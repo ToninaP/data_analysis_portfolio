{
 "cells": [
  {
   "cell_type": "code",
   "execution_count": null,
   "metadata": {},
   "outputs": [],
   "source": [
    "import pandas as pd\n",
    "\n",
    "# Reading the CSV files\n",
    "whitney_artworks = pd.read_csv('/Users/antoninalightfoot/Documents/GitHub/museum_personal/data/Whitneymuseum/artworks.csv')\n",
    "whitney_artists = pd.read_csv('/Users/antoninalightfoot/Documents/GitHub/museum_personal/data/Whitneymuseum/artists.csv')\n",
    "\n",
    "# Convert 'id' column to 'artist_ids' as strings without .0 for integer values\n",
    "whitney_artists['artist_ids'] = whitney_artists['id'].apply(lambda x: str(int(x)) if x.is_integer() else str(x))\n",
    "\n",
    "# Ensure that 'artist_ids' column in whitney_artworks is of string type\n",
    "whitney_artworks['artist_ids'] = whitney_artworks['artist_ids'].astype(str)\n",
    "\n",
    "# Merging the two dataframes on 'artist_ids'\n",
    "whitney = whitney_artworks.merge(whitney_artists, on=\"artist_ids\", how='left')\n",
    "\n",
    "# Displaying the result\n",
    "whitney.head()\n",
    "whitney_artists.to_csv"
   ]
  }
 ],
 "metadata": {
  "language_info": {
   "name": "python"
  }
 },
 "nbformat": 4,
 "nbformat_minor": 2
}
