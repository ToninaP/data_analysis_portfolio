{
 "cells": [
  {
   "cell_type": "code",
   "execution_count": 1,
   "metadata": {},
   "outputs": [],
   "source": [
    "import pandas as pd"
   ]
  },
  {
   "cell_type": "markdown",
   "metadata": {},
   "source": [
    "collect all raw files into one list"
   ]
  },
  {
   "cell_type": "code",
   "execution_count": 19,
   "metadata": {},
   "outputs": [],
   "source": [
    "data_paths = ['/Users/antoninalightfoot/Library/Mobile Documents/com~apple~CloudDocs/Documents/TLU/Data analysis/data/Centre Pompidou/merged_file.json',\n",
    "              '/Users/antoninalightfoot/Library/Mobile Documents/com~apple~CloudDocs/Documents/TLU/Data analysis/data/IMMA/preparation/IMMA.csv',\n",
    "              '/Users/antoninalightfoot/Library/Mobile Documents/com~apple~CloudDocs/Documents/TLU/Data analysis/data/Met/MetObjects.csv',\n",
    "              '/Users/antoninalightfoot/Library/Mobile Documents/com~apple~CloudDocs/Documents/TLU/Data analysis/data/Moderna/moderna_full.csv',\n",
    "              '/Users/antoninalightfoot/Library/Mobile Documents/com~apple~CloudDocs/Documents/TLU/Data analysis/data/Reina Sofia/raw_data/reina_sofia3.csv',\n",
    "              '/Users/antoninalightfoot/Library/Mobile Documents/com~apple~CloudDocs/Documents/TLU/Data analysis/data/Tate/artwork_data.csv']\n",
    "raw_data = []\n",
    "for df in data_paths:\n",
    "    if '.json' in df:\n",
    "        data = pd.read_json(df)\n",
    "    elif '.csv' in df:\n",
    "        data = pd.read_csv(df, on_bad_lines='skip', low_memory=False)\n",
    "    else:\n",
    "        print (\"cannot load \" + df)\n",
    "    raw_data.append(data)"
   ]
  },
  {
   "cell_type": "markdown",
   "metadata": {},
   "source": [
    "create functions for cleaning fields.\n",
    "artist name, artwork title, artwork medium, and acquisition source, aquisition year, creation year, artist nationality, artist gender"
   ]
  },
  {
   "cell_type": "code",
   "execution_count": 59,
   "metadata": {},
   "outputs": [
    {
     "data": {
      "text/plain": [
       "Index(['id', 'department', 'artist_id', 'artist_type', 'artist_name',\n",
       "       'artist_gender', 'artist_birth', 'artist_death', 'artist_nationality',\n",
       "       'object_inventory', 'object_title', 'object_date', 'object_type',\n",
       "       'object_technique', 'object_height', 'object_width', 'object_depth',\n",
       "       'object_weight', 'object_copyright', 'object_visibility',\n",
       "       'art_movement', 'acquisition_type', 'acquisition_date', 'Artist',\n",
       "       'Title'],\n",
       "      dtype='object')"
      ]
     },
     "execution_count": 59,
     "metadata": {},
     "output_type": "execute_result"
    }
   ],
   "source": [
    "raw_data[0].columns"
   ]
  },
  {
   "cell_type": "code",
   "execution_count": 29,
   "metadata": {},
   "outputs": [],
   "source": [
    "def create_artist_name(df):\n",
    "    # List of possible column names for the artist name\n",
    "    possible_columns = ['artist', 'author', 'artist_name', 'Artist Display Name']\n",
    "    \n",
    "    # Loop over the possible column names and use the first one that exists\n",
    "    for col in possible_columns:\n",
    "        if col in df.columns:\n",
    "            df['Artist'] = df[col]\n",
    "            break  # Exit loop once we find the first match\n",
    "    \n",
    "    return df"
   ]
  },
  {
   "cell_type": "code",
   "execution_count": 41,
   "metadata": {},
   "outputs": [],
   "source": [
    "def create_artwork_title(df):\n",
    "    # List of possible column names for the artist name\n",
    "    possible_columns = ['object_title', 'artwork_name', 'Title', 'url', 'name', 'title']\n",
    "    \n",
    "    # Loop over the possible column names and use the first one that exists\n",
    "    for col in possible_columns:\n",
    "        if col in df.columns:\n",
    "            df['Title'] = df[col]\n",
    "            break  # Exit loop once we find the first match\n",
    "    \n",
    "    return df"
   ]
  },
  {
   "cell_type": "code",
   "execution_count": 66,
   "metadata": {},
   "outputs": [],
   "source": [
    "def create_artwork_medium(df):\n",
    "    # List of possible column names for the artist name\n",
    "    possible_columns = ['medium', 'type_artwork', 'artwork_medium', 'Medium', 'object_type']\n",
    "    df['Medium'] = pd.NA\n",
    "    # Loop over the possible column names and use the first one that exists\n",
    "    for col in possible_columns:\n",
    "        if col in df.columns:\n",
    "            df['Medium'] = df[col]\n",
    "            break  # Exit loop once we find the first match\n",
    "    \n",
    "    return df"
   ]
  },
  {
   "cell_type": "markdown",
   "metadata": {},
   "source": [
    "use functions for raw datasets and dreate a new list with clean datasets"
   ]
  },
  {
   "cell_type": "code",
   "execution_count": 67,
   "metadata": {},
   "outputs": [],
   "source": [
    "transformed_data = []\n",
    "for df in raw_data:\n",
    "    create_artist_name(df)\n",
    "    create_artwork_title(df)\n",
    "    create_artwork_medium(df)\n",
    "    transformed_data.append(df)\n"
   ]
  },
  {
   "cell_type": "code",
   "execution_count": 68,
   "metadata": {},
   "outputs": [
    {
     "data": {
      "text/plain": [
       "0       <NA>\n",
       "1       <NA>\n",
       "2       <NA>\n",
       "3       <NA>\n",
       "4       <NA>\n",
       "        ... \n",
       "3146    <NA>\n",
       "3147    <NA>\n",
       "3148    <NA>\n",
       "3149    <NA>\n",
       "3150    <NA>\n",
       "Name: Medium, Length: 3151, dtype: object"
      ]
     },
     "execution_count": 68,
     "metadata": {},
     "output_type": "execute_result"
    }
   ],
   "source": [
    "transformed_data[1]['Medium']"
   ]
  },
  {
   "cell_type": "markdown",
   "metadata": {},
   "source": [
    "save clean datasets in separate csv files"
   ]
  }
 ],
 "metadata": {
  "kernelspec": {
   "display_name": "Python 3",
   "language": "python",
   "name": "python3"
  },
  "language_info": {
   "codemirror_mode": {
    "name": "ipython",
    "version": 3
   },
   "file_extension": ".py",
   "mimetype": "text/x-python",
   "name": "python",
   "nbconvert_exporter": "python",
   "pygments_lexer": "ipython3",
   "version": "3.13.0"
  }
 },
 "nbformat": 4,
 "nbformat_minor": 2
}
