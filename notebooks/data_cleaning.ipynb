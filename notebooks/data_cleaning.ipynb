{
 "cells": [
  {
   "cell_type": "code",
   "execution_count": 1,
   "metadata": {},
   "outputs": [],
   "source": [
    "import pandas as pd\n",
    "import re"
   ]
  },
  {
   "cell_type": "markdown",
   "metadata": {},
   "source": [
    "collect all raw files into one list"
   ]
  },
  {
   "cell_type": "code",
   "execution_count": 2,
   "metadata": {},
   "outputs": [],
   "source": [
    "data_paths = [\n",
    "              '/Users/antoninalightfoot/Library/Mobile Documents/com~apple~CloudDocs/Documents/TLU/Data analysis/data/Met/MetObjects.csv',\n",
    "              '/Users/antoninalightfoot/Library/Mobile Documents/com~apple~CloudDocs/Documents/TLU/Data analysis/data/Reina Sofia/raw_data/reina_sofia3.csv',\n",
    "              '/Users/antoninalightfoot/Library/Mobile Documents/com~apple~CloudDocs/Documents/TLU/Data analysis/data/Tate/artwork_data.csv']\n",
    "raw_data = []\n",
    "for df in data_paths:\n",
    "    if '.json' in df:\n",
    "        data = pd.read_json(df)\n",
    "    elif '.csv' in df:\n",
    "        data = pd.read_csv(df, on_bad_lines='skip', low_memory=False)\n",
    "    else:\n",
    "        print (\"cannot load \" + df)\n",
    "    raw_data.append(data)"
   ]
  },
  {
   "cell_type": "markdown",
   "metadata": {},
   "source": [
    "create functions for cleaning fields.\n",
    "artist name, artwork title, artwork medium, and acquisition source, aquisition year, creation year, artist nationality, artist gender"
   ]
  },
  {
   "cell_type": "code",
   "execution_count": 3,
   "metadata": {},
   "outputs": [],
   "source": [
    "def create_artist_name(df):\n",
    "    # List of possible column names for the artist name\n",
    "    possible_columns = ['artist', 'author', 'artist_name', 'Artist Display Name', 'artist name']\n",
    "    \n",
    "    # Loop over the possible column names and use the first one that exists\n",
    "    for col in possible_columns:\n",
    "        if col in df.columns:\n",
    "            df['Artist'] = df[col]\n",
    "            break  # Exit loop once we find the first match\n",
    "    \n",
    "    return df"
   ]
  },
  {
   "cell_type": "code",
   "execution_count": 4,
   "metadata": {},
   "outputs": [],
   "source": [
    "def create_artwork_title(df):\n",
    "    # List of possible column names for the artist name\n",
    "    possible_columns = ['object_title', 'artwork_name', 'Title', 'url', 'name', 'title']\n",
    "    \n",
    "    # Loop over the possible column names and use the first one that exists\n",
    "    for col in possible_columns:\n",
    "        if col in df.columns:\n",
    "            df['Title'] = df[col]\n",
    "            break  # Exit loop once we find the first match\n",
    "    \n",
    "    return df"
   ]
  },
  {
   "cell_type": "code",
   "execution_count": 5,
   "metadata": {},
   "outputs": [
    {
     "data": {
      "text/plain": [
       "Index(['Unnamed: 0', 'name', 'author', 'born-death-raw', 'author_born_year',\n",
       "       'author_death_year', 'nationality_artist', 'year_production',\n",
       "       'year_adquisition', 'type_artwork', 'register_artwork',\n",
       "       'medium_description_artwork', 'dimensions_artwork',\n",
       "       'observations_artwork', 'url_artwork', 'image_artwork'],\n",
       "      dtype='object')"
      ]
     },
     "execution_count": 5,
     "metadata": {},
     "output_type": "execute_result"
    }
   ],
   "source": [
    "raw_data[1].columns"
   ]
  },
  {
   "cell_type": "code",
   "execution_count": 6,
   "metadata": {},
   "outputs": [],
   "source": [
    "def create_artwork_medium(df):\n",
    "    # List of possible column names for the artist name\n",
    "    possible_columns = ['object_type','medium', 'type_artwork', 'artwork_medium', 'Medium']\n",
    "    # Loop over the possible column names and use the first one that exists\n",
    "    for col in possible_columns:\n",
    "        if col in df.columns:\n",
    "            df['Medium'] = df[col]\n",
    "            break  # Exit loop once we find the first match\n",
    "    return df"
   ]
  },
  {
   "cell_type": "code",
   "execution_count": 7,
   "metadata": {},
   "outputs": [],
   "source": [
    "def extract_numbers(value):\n",
    "    # Check if the value is NaN or not a string/number\n",
    "    if pd.isna(value):  # Check for NaN\n",
    "        return \"\"  # Return empty string for NaN values\n",
    "    elif isinstance(value, str):  # If it's a string\n",
    "        return re.sub(\"[^0-9]\", \"\", value)  # Extract digits\n",
    "    elif isinstance(value, (int, float)):  # If it's a number (int or float)\n",
    "        return str(int(value))  # Convert to string and extract digits\n",
    "    return \"\"  # Return empty string if it's not a valid value\n",
    "\n",
    "def clean_acquisition_year(df):\n",
    "   # List of possible column names for the artist name\n",
    "    possible_columns = ['acquisition_date', 'credit_line', 'AccessionYear', 'artwork_acquisition', 'year_adquisition', 'acquisitionYear' ]\n",
    "    df['Year_acquisition'] = pd.NA\n",
    "  \n",
    "    # Loop over the possible column names and use the first one that exists\n",
    "    for col in possible_columns:\n",
    "        if col in df.columns:\n",
    "            df['Year_acquisition'] = df[col].apply(extract_numbers)\n",
    "            break  # Exit loop once we find the first match\n",
    "    \n",
    "    return df "
   ]
  },
  {
   "cell_type": "markdown",
   "metadata": {},
   "source": [
    "use functions for raw datasets and dreate a new list with clean datasets"
   ]
  },
  {
   "cell_type": "code",
   "execution_count": 8,
   "metadata": {},
   "outputs": [],
   "source": [
    "# function that would categorize Medium column into less granular groups"
   ]
  },
  {
   "cell_type": "code",
   "execution_count": 9,
   "metadata": {},
   "outputs": [],
   "source": [
    "def classify_medium(df):\n",
    "    df['Medium_classified'] = pd.NA\n",
    "    medium_tags = [['paper', 'watercolor', 'card', 'watercolour', 'board', 'chalk', 'mixed', 'print', 'parchment', 'graphic',\n",
    "                    'engraving', 'etching', 'dessin'], #graphics\n",
    "                   ['oil', 'canvas', 'paint', 'fresco', 'painting', 'peinture'], #painting\n",
    "                   ['bronze', 'granite', 'marble', 'alabaster', 'clay', 'iron', 'cement', 'concrete', 'plaster', 'sculpture'], #sculpture\n",
    "                   ['film', 'video'], #video art\n",
    "                   ['fabric', 'glass', 'wood', 'aluminium', 'steel', 'plastic', 'book', 'copper', 'stone', \n",
    "                    'slate', 'wool', 'willow', 'cedar', 'wax', 'walnut', 'tin', 'plate', 'textile', 'terracota', \n",
    "                    'mahogany', 'pine', 'oak', 'iron', 'suede', 'brass', 'sheet', 'cast', 'acacia', 'metal', 'beech', 'celluloid',\n",
    "                    'cellulose', 'ceramic', 'rubber', 'elm', 'earthenware', 'epoxy', 'felt', 'firebricks', 'flint', 'banknote',\n",
    "                    'ivory', 'lead', 'leather', 'terracota', 'perspex', 'resin', 'quartz', 'porcelain', 'object', 'medal',  'silk', 'cotton', 'cashmere'], #object\n",
    "                   ['boat', 'structure', 'burlap', 'bean', 'hook', 'knive', 'hat', 'light', 'wall', 'machine', \n",
    "                    'vinyl', 'cleaner', 'door', 'mirror', 'form', 'metronome', 'sock', 'carpet', 'latex', 'installation'], #installation\n",
    "                   ['photo'], #photography\n",
    "                   ['software', 'audio', 'slide', 'digital', 'net', 'sound'], #new media\n",
    "                   ['architecture'], #architecture\n",
    "                   ]\n",
    "    medium_name = ['graphics', 'painting', 'sculpture', 'video art', 'object', 'installation', 'photography', 'new media', 'architecture']\n",
    "     # Iterate over each row in the DataFrame\n",
    "    for idx, row in df.iterrows():\n",
    "        medium = row['Medium']  # Assuming the column is named 'Medium'\n",
    "        \n",
    "        # Skip if the 'Medium' value is not a string (e.g., NaN or other types)\n",
    "        if not isinstance(medium, str):\n",
    "            continue\n",
    "        \n",
    "        # Check each tag group (e.g., ['paper', 'watercolor'], ['oil'])\n",
    "        for i, tag_group in enumerate(medium_tags):\n",
    "            # Check if any keyword from the tag group exists in the 'Medium' column\n",
    "            if any(tag.lower() in medium.lower() for tag in tag_group):\n",
    "                # Assign the corresponding medium name (from medium_name list)\n",
    "                df.at[idx, 'Medium_classified'] = medium_name[i]\n",
    "                break  # Stop once we find a match\n",
    "    \n",
    "    return df"
   ]
  },
  {
   "cell_type": "code",
   "execution_count": 10,
   "metadata": {},
   "outputs": [],
   "source": [
    "transformed_data = []\n",
    "for df in raw_data:\n",
    "    create_artist_name(df)\n",
    "    create_artwork_title(df)\n",
    "    create_artwork_medium(df)\n",
    "    clean_acquisition_year(df)\n",
    "    classify_medium(df)\n",
    "    transformed_data.append(df)\n"
   ]
  },
  {
   "cell_type": "code",
   "execution_count": 11,
   "metadata": {},
   "outputs": [],
   "source": [
    "# Filter rows where 'Medium_classified' is NaN\n",
    "test = transformed_data[0][transformed_data[0]['Medium_classified'].isna()][['Medium', 'Medium_classified']]\n"
   ]
  },
  {
   "cell_type": "markdown",
   "metadata": {},
   "source": [
    "save clean datasets in separate csv files"
   ]
  },
  {
   "cell_type": "code",
   "execution_count": 15,
   "metadata": {},
   "outputs": [],
   "source": [
    "clean_data = []\n",
    "for df in transformed_data:\n",
    "    df = df[[ 'Artist', 'Title','Medium', 'Year_acquisition', 'Medium_classified']]\n",
    "    clean_data.append(df)"
   ]
  },
  {
   "cell_type": "code",
   "execution_count": 16,
   "metadata": {},
   "outputs": [
    {
     "name": "stdout",
     "output_type": "stream",
     "text": [
      "Saved met_clean.csv\n",
      "Saved reina_sofia_clean.csv\n",
      "Saved tate_clean.csv\n"
     ]
    }
   ],
   "source": [
    "# List of dataset names to match the datasets\n",
    "dataset_names = [ \n",
    "                 'met',  \n",
    "                 'reina_sofia', \n",
    "                 'tate']\n",
    "\n",
    "# Save each dataset using the corresponding name\n",
    "for dataset, name in zip(clean_data, dataset_names):\n",
    "    # Generate a unique filename using the dataset name\n",
    "    file_name = f\"{name}_clean.csv\"\n",
    "    \n",
    "    # Save the DataFrame to a CSV file\n",
    "    dataset.to_csv(file_name, index=False)\n",
    "    print(f\"Saved {file_name}\")"
   ]
  }
 ],
 "metadata": {
  "kernelspec": {
   "display_name": "Python 3",
   "language": "python",
   "name": "python3"
  },
  "language_info": {
   "codemirror_mode": {
    "name": "ipython",
    "version": 3
   },
   "file_extension": ".py",
   "mimetype": "text/x-python",
   "name": "python",
   "nbconvert_exporter": "python",
   "pygments_lexer": "ipython3",
   "version": "3.13.0"
  }
 },
 "nbformat": 4,
 "nbformat_minor": 2
}
