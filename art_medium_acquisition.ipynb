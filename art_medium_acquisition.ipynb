{
 "cells": [
  {
   "cell_type": "code",
   "execution_count": 34,
   "metadata": {},
   "outputs": [
    {
     "name": "stdout",
     "output_type": "stream",
     "text": [
      "['/Library/Frameworks/Python.framework/Versions/3.13/lib/python313.zip', '/Library/Frameworks/Python.framework/Versions/3.13/lib/python3.13', '/Library/Frameworks/Python.framework/Versions/3.13/lib/python3.13/lib-dynload', '', '/Users/antoninalightfoot/Library/Python/3.13/lib/python/site-packages', '/Library/Frameworks/Python.framework/Versions/3.13/lib/python3.13/site-packages', '/Users/antoninalightfoot/Documents/GitHub/data_analysis_portfolio/analysis/scripts']\n"
     ]
    }
   ],
   "source": [
    "import sys\n",
    "print(sys.path)"
   ]
  },
  {
   "cell_type": "code",
   "execution_count": 44,
   "metadata": {},
   "outputs": [
    {
     "ename": "ImportError",
     "evalue": "cannot import name 'load_data' from 'scripts' (/Users/antoninalightfoot/Documents/GitHub/data_analysis_portfolio/analysis/scripts/__init__.py)",
     "output_type": "error",
     "traceback": [
      "\u001b[0;31m---------------------------------------------------------------------------\u001b[0m",
      "\u001b[0;31mImportError\u001b[0m                               Traceback (most recent call last)",
      "Cell \u001b[0;32mIn[44], line 2\u001b[0m\n\u001b[1;32m      1\u001b[0m \u001b[38;5;28;01mimport\u001b[39;00m \u001b[38;5;21;01mpandas\u001b[39;00m \u001b[38;5;28;01mas\u001b[39;00m \u001b[38;5;21;01mpd\u001b[39;00m\n\u001b[0;32m----> 2\u001b[0m \u001b[38;5;28;01mfrom\u001b[39;00m \u001b[38;5;21;01mscripts\u001b[39;00m \u001b[38;5;28;01mimport\u001b[39;00m load_data\n",
      "\u001b[0;31mImportError\u001b[0m: cannot import name 'load_data' from 'scripts' (/Users/antoninalightfoot/Documents/GitHub/data_analysis_portfolio/analysis/scripts/__init__.py)"
     ]
    }
   ],
   "source": [
    "import pandas as pd\n",
    "from scripts import load_data\n",
    "\n"
   ]
  },
  {
   "cell_type": "code",
   "execution_count": 39,
   "metadata": {},
   "outputs": [
    {
     "ename": "NameError",
     "evalue": "name 'load_data' is not defined",
     "output_type": "error",
     "traceback": [
      "\u001b[0;31m---------------------------------------------------------------------------\u001b[0m",
      "\u001b[0;31mNameError\u001b[0m                                 Traceback (most recent call last)",
      "Cell \u001b[0;32mIn[39], line 2\u001b[0m\n\u001b[1;32m      1\u001b[0m folder_path \u001b[38;5;241m=\u001b[39m \u001b[38;5;124m'\u001b[39m\u001b[38;5;124m/Users/antoninalightfoot/Documents/GitHub/data_analysis_portfolio/data\u001b[39m\u001b[38;5;124m'\u001b[39m\n\u001b[0;32m----> 2\u001b[0m museums_data \u001b[38;5;241m=\u001b[39m \u001b[43mload_data\u001b[49m(folder_path)\n",
      "\u001b[0;31mNameError\u001b[0m: name 'load_data' is not defined"
     ]
    }
   ],
   "source": [
    "folder_path = '/Users/antoninalightfoot/Documents/GitHub/data_analysis_portfolio/data'\n",
    "museums_data = load_data(folder_path)"
   ]
  },
  {
   "cell_type": "code",
   "execution_count": 7,
   "metadata": {},
   "outputs": [
    {
     "data": {
      "text/html": [
       "<div>\n",
       "<style scoped>\n",
       "    .dataframe tbody tr th:only-of-type {\n",
       "        vertical-align: middle;\n",
       "    }\n",
       "\n",
       "    .dataframe tbody tr th {\n",
       "        vertical-align: top;\n",
       "    }\n",
       "\n",
       "    .dataframe thead th {\n",
       "        text-align: right;\n",
       "    }\n",
       "</style>\n",
       "<table border=\"1\" class=\"dataframe\">\n",
       "  <thead>\n",
       "    <tr style=\"text-align: right;\">\n",
       "      <th></th>\n",
       "      <th>Artist</th>\n",
       "      <th>Title</th>\n",
       "      <th>Medium</th>\n",
       "      <th>Year_acquisition</th>\n",
       "      <th>Medium_classified</th>\n",
       "    </tr>\n",
       "  </thead>\n",
       "  <tbody>\n",
       "    <tr>\n",
       "      <th>0</th>\n",
       "      <td>NaN</td>\n",
       "      <td>La hora de los hornos. 1º Parte: Neocolonialis...</td>\n",
       "      <td>Film</td>\n",
       "      <td>NaN</td>\n",
       "      <td>video art</td>\n",
       "    </tr>\n",
       "    <tr>\n",
       "      <th>1</th>\n",
       "      <td>NaN</td>\n",
       "      <td>Des armes pour l’Espagne antifasciste (Weapons...</td>\n",
       "      <td>Graphic art</td>\n",
       "      <td>2012.0</td>\n",
       "      <td>graphics</td>\n",
       "    </tr>\n",
       "    <tr>\n",
       "      <th>2</th>\n",
       "      <td>NaN</td>\n",
       "      <td>La torre de los siete jorobados (The Tower of ...</td>\n",
       "      <td>Film</td>\n",
       "      <td>NaN</td>\n",
       "      <td>video art</td>\n",
       "    </tr>\n",
       "    <tr>\n",
       "      <th>3</th>\n",
       "      <td>NaN</td>\n",
       "      <td>Sans titre (Paris: boulevard de la Gare) (Unti...</td>\n",
       "      <td>Painting</td>\n",
       "      <td>2015.0</td>\n",
       "      <td>painting</td>\n",
       "    </tr>\n",
       "    <tr>\n",
       "      <th>4</th>\n",
       "      <td>NaN</td>\n",
       "      <td>Agrafage (Stapling)</td>\n",
       "      <td>Painting</td>\n",
       "      <td>2015.0</td>\n",
       "      <td>painting</td>\n",
       "    </tr>\n",
       "    <tr>\n",
       "      <th>...</th>\n",
       "      <td>...</td>\n",
       "      <td>...</td>\n",
       "      <td>...</td>\n",
       "      <td>...</td>\n",
       "      <td>...</td>\n",
       "    </tr>\n",
       "    <tr>\n",
       "      <th>10013</th>\n",
       "      <td>Mariano Zuzunaga</td>\n",
       "      <td>Abstracto - Barcelona (Abstract - Barcelona)</td>\n",
       "      <td>Photography</td>\n",
       "      <td>2015.0</td>\n",
       "      <td>photography</td>\n",
       "    </tr>\n",
       "    <tr>\n",
       "      <th>10014</th>\n",
       "      <td>Mariano Zuzunaga</td>\n",
       "      <td>Venta de sellos – Barcelona (Sale of Stamps - ...</td>\n",
       "      <td>Photography</td>\n",
       "      <td>2015.0</td>\n",
       "      <td>photography</td>\n",
       "    </tr>\n",
       "    <tr>\n",
       "      <th>10015</th>\n",
       "      <td>Marius de Zayas</td>\n",
       "      <td>Argentinita</td>\n",
       "      <td>Film and video</td>\n",
       "      <td>NaN</td>\n",
       "      <td>video art</td>\n",
       "    </tr>\n",
       "    <tr>\n",
       "      <th>10016</th>\n",
       "      <td>readymades belong to everyone®</td>\n",
       "      <td>Display</td>\n",
       "      <td>Photography, Installation</td>\n",
       "      <td>2012.0</td>\n",
       "      <td>installation</td>\n",
       "    </tr>\n",
       "    <tr>\n",
       "      <th>10017</th>\n",
       "      <td>readymades belong to everyone®</td>\n",
       "      <td>Publicidad, publicidad (Advertising, Advertising)</td>\n",
       "      <td>Photography</td>\n",
       "      <td>2012.0</td>\n",
       "      <td>photography</td>\n",
       "    </tr>\n",
       "  </tbody>\n",
       "</table>\n",
       "<p>10018 rows × 5 columns</p>\n",
       "</div>"
      ],
      "text/plain": [
       "                               Artist  \\\n",
       "0                                 NaN   \n",
       "1                                 NaN   \n",
       "2                                 NaN   \n",
       "3                                 NaN   \n",
       "4                                 NaN   \n",
       "...                               ...   \n",
       "10013                Mariano Zuzunaga   \n",
       "10014                Mariano Zuzunaga   \n",
       "10015                 Marius de Zayas   \n",
       "10016  readymades belong to everyone®   \n",
       "10017  readymades belong to everyone®   \n",
       "\n",
       "                                                   Title  \\\n",
       "0      La hora de los hornos. 1º Parte: Neocolonialis...   \n",
       "1      Des armes pour l’Espagne antifasciste (Weapons...   \n",
       "2      La torre de los siete jorobados (The Tower of ...   \n",
       "3      Sans titre (Paris: boulevard de la Gare) (Unti...   \n",
       "4                                    Agrafage (Stapling)   \n",
       "...                                                  ...   \n",
       "10013       Abstracto - Barcelona (Abstract - Barcelona)   \n",
       "10014  Venta de sellos – Barcelona (Sale of Stamps - ...   \n",
       "10015                                        Argentinita   \n",
       "10016                                            Display   \n",
       "10017  Publicidad, publicidad (Advertising, Advertising)   \n",
       "\n",
       "                          Medium  Year_acquisition Medium_classified  \n",
       "0                           Film               NaN         video art  \n",
       "1                    Graphic art            2012.0          graphics  \n",
       "2                           Film               NaN         video art  \n",
       "3                       Painting            2015.0          painting  \n",
       "4                       Painting            2015.0          painting  \n",
       "...                          ...               ...               ...  \n",
       "10013                Photography            2015.0       photography  \n",
       "10014                Photography            2015.0       photography  \n",
       "10015             Film and video               NaN         video art  \n",
       "10016  Photography, Installation            2012.0      installation  \n",
       "10017                Photography            2012.0       photography  \n",
       "\n",
       "[10018 rows x 5 columns]"
      ]
     },
     "execution_count": 7,
     "metadata": {},
     "output_type": "execute_result"
    }
   ],
   "source": [
    "museums_data[0]"
   ]
  },
  {
   "cell_type": "markdown",
   "metadata": {},
   "source": [
    "group values by year"
   ]
  },
  {
   "cell_type": "code",
   "execution_count": null,
   "metadata": {},
   "outputs": [],
   "source": []
  },
  {
   "cell_type": "markdown",
   "metadata": {},
   "source": [
    "plot area charts with subplots"
   ]
  },
  {
   "cell_type": "code",
   "execution_count": null,
   "metadata": {},
   "outputs": [],
   "source": []
  }
 ],
 "metadata": {
  "kernelspec": {
   "display_name": "Python 3",
   "language": "python",
   "name": "python3"
  },
  "language_info": {
   "codemirror_mode": {
    "name": "ipython",
    "version": 3
   },
   "file_extension": ".py",
   "mimetype": "text/x-python",
   "name": "python",
   "nbconvert_exporter": "python",
   "pygments_lexer": "ipython3",
   "version": "3.13.0"
  }
 },
 "nbformat": 4,
 "nbformat_minor": 2
}
